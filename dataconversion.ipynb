{
 "cells": [
  {
   "cell_type": "code",
   "execution_count": 54,
   "metadata": {},
   "outputs": [],
   "source": [
    "import os\n",
    "import json\n",
    "\n",
    "# Specify the path to the folder containing your JSON files\n",
    "folder_path = \"C:/Users/Acer/Documents/Fusemachines/LayoutLM/dataset/ocr_results\"\n",
    "\n",
    "output_folder_path = \"C:/Users/Acer/Documents/Fusemachines/LayoutLM/dataset/ocr_result\"\n",
    "\n",
    "for filename in os.listdir(folder_path):\n",
    "    if filename.endswith(\".json\"):\n",
    "        file_path = os.path.join(folder_path, filename)\n",
    "        output_file_path =os.path.join(output_folder_path, filename) \n",
    "\n",
    "        with open(file_path, 'r') as json_file:\n",
    "            data = json.load(json_file)\n",
    "            lines = []\n",
    "\n",
    "            for text_item, bbox_item in zip(data[\"text\"], data[\"bbox\"]):\n",
    "                text = text_item\n",
    "                bbox = bbox_item\n",
    "                x1, y1, x2, y2 = bbox\n",
    "                bbox = [x1, y1, x2, y1, x2, y2, x1, y2]\n",
    "                lines.append({\"text\": text, \"boundingBox\": bbox})\n",
    "                result = {\"height\": data[\"height\"], \"width\": data[\"width\"], \"lines\": lines}\n",
    "\n",
    "        with open(output_file_path, \"w\") as json_file:\n",
    "            json.dump(result, json_file, indent=4)\n"
   ]
  },
  {
   "cell_type": "code",
   "execution_count": null,
   "metadata": {},
   "outputs": [],
   "source": []
  }
 ],
 "metadata": {
  "kernelspec": {
   "display_name": "layoutlmvenv",
   "language": "python",
   "name": "python3"
  },
  "language_info": {
   "codemirror_mode": {
    "name": "ipython",
    "version": 3
   },
   "file_extension": ".py",
   "mimetype": "text/x-python",
   "name": "python",
   "nbconvert_exporter": "python",
   "pygments_lexer": "ipython3",
   "version": "3.11.6"
  }
 },
 "nbformat": 4,
 "nbformat_minor": 2
}
